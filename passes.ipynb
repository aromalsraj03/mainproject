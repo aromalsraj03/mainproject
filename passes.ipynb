{
 "cells": [
  {
   "cell_type": "code",
   "execution_count": 3,
   "id": "c9c93551-04b3-445b-a1f6-83b00bff0941",
   "metadata": {},
   "outputs": [
    {
     "name": "stderr",
     "output_type": "stream",
     "text": [
      "C:\\Users\\91798\\AppData\\Local\\Programs\\Python\\Python311\\Lib\\site-packages\\keras\\src\\layers\\core\\dense.py:87: UserWarning: Do not pass an `input_shape`/`input_dim` argument to a layer. When using Sequential models, prefer using an `Input(shape)` object as the first layer in the model instead.\n",
      "  super().__init__(activity_regularizer=activity_regularizer, **kwargs)\n"
     ]
    },
    {
     "name": "stdout",
     "output_type": "stream",
     "text": [
      "CatBoost MAE: 3.91\n",
      "[LightGBM] [Info] Auto-choosing col-wise multi-threading, the overhead of testing was 0.000118 seconds.\n",
      "You can set `force_col_wise=true` to remove the overhead.\n",
      "[LightGBM] [Info] Total Bins 48\n",
      "[LightGBM] [Info] Number of data points in the train set: 1111, number of used features: 3\n",
      "[LightGBM] [Info] Start training from score 12.272727\n",
      "[LightGBM] [Warning] No further splits with positive gain, best gain: -inf\n",
      "[LightGBM] [Warning] No further splits with positive gain, best gain: -inf\n",
      "[LightGBM] [Warning] No further splits with positive gain, best gain: -inf\n",
      "[LightGBM] [Warning] No further splits with positive gain, best gain: -inf\n",
      "[LightGBM] [Warning] No further splits with positive gain, best gain: -inf\n",
      "[LightGBM] [Warning] No further splits with positive gain, best gain: -inf\n",
      "[LightGBM] [Warning] No further splits with positive gain, best gain: -inf\n",
      "[LightGBM] [Warning] No further splits with positive gain, best gain: -inf\n",
      "[LightGBM] [Warning] No further splits with positive gain, best gain: -inf\n",
      "[LightGBM] [Warning] No further splits with positive gain, best gain: -inf\n",
      "[LightGBM] [Warning] No further splits with positive gain, best gain: -inf\n",
      "[LightGBM] [Warning] No further splits with positive gain, best gain: -inf\n",
      "LightGBM MAE: 3.86\n",
      "XGBoost MAE: 4.84\n",
      "Random Forest MAE: 4.22\n",
      "Linear Regression MAE: 4.13\n",
      "SVR MAE: 4.33\n",
      "\u001b[1m9/9\u001b[0m \u001b[32m━━━━━━━━━━━━━━━━━━━━\u001b[0m\u001b[37m\u001b[0m \u001b[1m0s\u001b[0m 10ms/step\n",
      "Neural Network MAE: 4.09\n",
      "Best Model Selected: LightGBM\n",
      "Predicted Shots for Team 12 vs Team 4 at Venue 0: 20.59\n"
     ]
    }
   ],
   "source": [
    "import pandas as pd\n",
    "from sklearn.model_selection import train_test_split\n",
    "from sklearn.preprocessing import LabelEncoder\n",
    "from catboost import CatBoostRegressor\n",
    "from lightgbm import LGBMRegressor\n",
    "from xgboost import XGBRegressor\n",
    "from sklearn.ensemble import RandomForestRegressor\n",
    "from sklearn.linear_model import LinearRegression\n",
    "from sklearn.svm import SVR\n",
    "from tensorflow.keras.models import Sequential\n",
    "from tensorflow.keras.layers import Dense\n",
    "from sklearn.metrics import mean_absolute_error\n",
    "import numpy as np\n",
    "\n",
    "# Load dataset\n",
    "df = pd.read_csv(r\"C:\\Users\\91798\\Desktop\\html\\jypter\\Football-main\\Football-main\\matches.csv\")\n",
    "\n",
    "# Select relevant columns\n",
    "df = df[['team', 'opponent', 'venue', 'sh']]\n",
    "\n",
    "# Convert categorical values to numeric using Label Encoding\n",
    "label_encoders = {}\n",
    "for col in ['team', 'opponent']:\n",
    "    le = LabelEncoder()\n",
    "    df[col] = le.fit_transform(df[col])\n",
    "    label_encoders[col] = le\n",
    "\n",
    "# Manually map venue to 0 (Home) and 1 (Away)\n",
    "df['venue'] = df['venue'].map({'Home': 0, 'Away': 1})\n",
    "\n",
    "# Define features and target\n",
    "X = df[['team', 'opponent', 'venue']]\n",
    "y = df['sh']  # Predicting total shots\n",
    "\n",
    "# Split data into training and testing sets\n",
    "X_train, X_test, y_train, y_test = train_test_split(X, y, test_size=0.2, random_state=42)\n",
    "\n",
    "# Train different ML models\n",
    "models = {\n",
    "    'CatBoost': CatBoostRegressor(iterations=500, depth=8, learning_rate=0.05, verbose=0),\n",
    "    'LightGBM': LGBMRegressor(n_estimators=300, learning_rate=0.03, max_depth=12),\n",
    "    'XGBoost': XGBRegressor(n_estimators=300, learning_rate=0.05, max_depth=10),\n",
    "    'Random Forest': RandomForestRegressor(n_estimators=200, random_state=42),\n",
    "    'Linear Regression': LinearRegression(),\n",
    "    'SVR': SVR(kernel='rbf', C=100, gamma=0.1, epsilon=0.1)\n",
    "}\n",
    "\n",
    "# Train Neural Network Model\n",
    "nn_model = Sequential([\n",
    "    Dense(64, activation='relu', input_shape=(X_train.shape[1],)),\n",
    "    Dense(32, activation='relu'),\n",
    "    Dense(1)  # Output layer\n",
    "])\n",
    "\n",
    "nn_model.compile(optimizer='adam', loss='mae')\n",
    "nn_model.fit(X_train, y_train, epochs=100, batch_size=8, verbose=0)\n",
    "\n",
    "# Evaluate models\n",
    "mae_scores = {}\n",
    "for name, model in models.items():\n",
    "    model.fit(X_train, y_train)\n",
    "    y_pred = model.predict(X_test)\n",
    "    error = mean_absolute_error(y_test, y_pred)\n",
    "    mae_scores[name] = error\n",
    "    print(f\"{name} MAE: {error:.2f}\")\n",
    "\n",
    "# Predict with Neural Network\n",
    "nn_pred = nn_model.predict(X_test).flatten()\n",
    "nn_error = mean_absolute_error(y_test, nn_pred)\n",
    "mae_scores['Neural Network'] = nn_error\n",
    "print(f\"Neural Network MAE: {nn_error:.2f}\")\n",
    "\n",
    "# Select the best model\n",
    "best_model_name = min(mae_scores, key=mae_scores.get)\n",
    "best_model = models.get(best_model_name, nn_model)\n",
    "print(f\"Best Model Selected: {best_model_name}\")\n",
    "\n",
    "# Function to predict shots using the best model\n",
    "def predict_shots(team, opponent, venue):\n",
    "    input_data = pd.DataFrame([[team, opponent, venue]], columns=['team', 'opponent', 'venue'])\n",
    "    predicted_shots = best_model.predict(input_data)[0]\n",
    "    print(f\"Predicted Shots for Team {team} vs Team {opponent} at Venue {venue}: {predicted_shots:.2f}\")\n",
    "    \n",
    "# Example usage\n",
    "predict_shots(12, 4, 0)  # Example: Team 12 vs Team 4 at Home"
   ]
  },
  {
   "cell_type": "code",
   "execution_count": 4,
   "id": "269a0fcf-9aad-4de6-bdec-d820ee63fde0",
   "metadata": {},
   "outputs": [
    {
     "name": "stdout",
     "output_type": "stream",
     "text": [
      "Predicted Shots for Team 12 vs Team 4 at Venue 1: 15.94\n"
     ]
    }
   ],
   "source": [
    "predict_shots(12, 4, 1)"
   ]
  },
  {
   "cell_type": "code",
   "execution_count": 12,
   "id": "1c11a0fc-7e94-4d1b-a809-d7306f17a662",
   "metadata": {},
   "outputs": [
    {
     "name": "stdout",
     "output_type": "stream",
     "text": [
      "     team  opponent  venue    sh\n",
      "69      0         4      1  13.0\n",
      "85      0         4      0  20.0\n",
      "906     0         4      0  18.0\n",
      "921     0         4      1  15.0\n"
     ]
    }
   ],
   "source": [
    "# Apply label encoding again (if not done already)\n",
    "from sklearn.preprocessing import LabelEncoder\n",
    "\n",
    "label_encoders = {}\n",
    "for col in ['team', 'opponent']:\n",
    "    le = LabelEncoder()\n",
    "    df[col] = le.fit_transform(df[col])\n",
    "    label_encoders[col] = le\n",
    "    team_name = 0\n",
    "opponent_name = 4\n",
    "\n",
    "# Convert team names to encoded values\n",
    "team_encoded = label_encoders['team'].transform([team_name])[0]\n",
    "opponent_encoded = label_encoders['team'].transform([opponent_name])[0]\n",
    "\n",
    "# Find past head-to-head matches\n",
    "h2h_matches = df[(df['team'] == team_encoded) & (df['opponent'] == opponent_encoded)]\n",
    "print(h2h_matches[['team', 'opponent', 'venue', 'sh']])\n"
   ]
  },
  {
   "cell_type": "code",
   "execution_count": 9,
   "id": "8975c698-df7b-4f47-97d9-f2d12719f79b",
   "metadata": {},
   "outputs": [
    {
     "name": "stdout",
     "output_type": "stream",
     "text": [
      "Predicted Shots for Team 12 vs Team 13 at Venue 1: 15.27\n"
     ]
    }
   ],
   "source": [
    "predict_shots(12, 13, 1)"
   ]
  },
  {
   "cell_type": "code",
   "execution_count": 10,
   "id": "75bb35c0-450e-48a7-9953-662c0bf81ed3",
   "metadata": {},
   "outputs": [
    {
     "name": "stdout",
     "output_type": "stream",
     "text": [
      "Predicted Shots for Team 12 vs Team 4 at Venue 0: 20.59\n"
     ]
    }
   ],
   "source": [
    "predict_shots(12, 4, 0)"
   ]
  },
  {
   "cell_type": "code",
   "execution_count": 13,
   "id": "eeb39479-72ef-473a-b218-0d6c2c65424b",
   "metadata": {},
   "outputs": [
    {
     "name": "stdout",
     "output_type": "stream",
     "text": [
      "Predicted Shots for Team 0 vs Team 4 at Venue 0: 19.73\n"
     ]
    }
   ],
   "source": [
    "predict_shots(0, 4, 0)"
   ]
  },
  {
   "cell_type": "code",
   "execution_count": null,
   "id": "627eaca8-b16d-47a1-92cc-95954e3553db",
   "metadata": {},
   "outputs": [],
   "source": []
  }
 ],
 "metadata": {
  "kernelspec": {
   "display_name": "Python 3 (ipykernel)",
   "language": "python",
   "name": "python3"
  },
  "language_info": {
   "codemirror_mode": {
    "name": "ipython",
    "version": 3
   },
   "file_extension": ".py",
   "mimetype": "text/x-python",
   "name": "python",
   "nbconvert_exporter": "python",
   "pygments_lexer": "ipython3",
   "version": "3.11.6"
  }
 },
 "nbformat": 4,
 "nbformat_minor": 5
}
