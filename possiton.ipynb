{
 "cells": [
  {
   "cell_type": "code",
   "execution_count": 2,
   "id": "af068b39-eac7-4e32-b335-d5e77869f822",
   "metadata": {},
   "outputs": [
    {
     "name": "stdout",
     "output_type": "stream",
     "text": [
      "Requirement already satisfied: xgboost in c:\\users\\91798\\appdata\\local\\programs\\python\\python311\\lib\\site-packages (2.1.4)"
     ]
    },
    {
     "name": "stderr",
     "output_type": "stream",
     "text": [
      "\n",
      "[notice] A new release of pip is available: 23.2.1 -> 25.0.1\n",
      "[notice] To update, run: python.exe -m pip install --upgrade pip\n"
     ]
    },
    {
     "name": "stdout",
     "output_type": "stream",
     "text": [
      "\n",
      "Requirement already satisfied: numpy in c:\\users\\91798\\appdata\\local\\programs\\python\\python311\\lib\\site-packages (from xgboost) (1.26.4)\n",
      "Requirement already satisfied: scipy in c:\\users\\91798\\appdata\\local\\programs\\python\\python311\\lib\\site-packages (from xgboost) (1.14.1)\n"
     ]
    }
   ],
   "source": [
    "!pip install xgboost\n"
   ]
  },
  {
   "cell_type": "code",
   "execution_count": 2,
   "id": "b934a851-1056-4887-9fa1-c730c554db0d",
   "metadata": {},
   "outputs": [
    {
     "ename": "NameError",
     "evalue": "name 'dfx' is not defined",
     "output_type": "error",
     "traceback": [
      "\u001b[1;31m---------------------------------------------------------------------------\u001b[0m",
      "\u001b[1;31mNameError\u001b[0m                                 Traceback (most recent call last)",
      "Cell \u001b[1;32mIn[2], line 1\u001b[0m\n\u001b[1;32m----> 1\u001b[0m \u001b[43mdfx\u001b[49m\u001b[38;5;241m.\u001b[39minfo()\n",
      "\u001b[1;31mNameError\u001b[0m: name 'dfx' is not defined"
     ]
    }
   ],
   "source": [
    "df.info()\n"
   ]
  },
  {
   "cell_type": "code",
   "execution_count": null,
   "id": "81d8c3d3-a07a-4e54-8a62-c42dc2fc234c",
   "metadata": {},
   "outputs": [],
   "source": [
    "unique_teams = df['team'].unique()\n",
    "print(unique_teams)\n"
   ]
  },
  {
   "cell_type": "code",
   "execution_count": 3,
   "id": "b28c6786-5f05-4f60-8847-9c4c38e57a38",
   "metadata": {},
   "outputs": [
    {
     "ename": "NameError",
     "evalue": "name 'df' is not defined",
     "output_type": "error",
     "traceback": [
      "\u001b[1;31m---------------------------------------------------------------------------\u001b[0m",
      "\u001b[1;31mNameError\u001b[0m                                 Traceback (most recent call last)",
      "Cell \u001b[1;32mIn[3], line 1\u001b[0m\n\u001b[1;32m----> 1\u001b[0m \u001b[43mdf\u001b[49m\u001b[38;5;241m.\u001b[39minfo()\n",
      "\u001b[1;31mNameError\u001b[0m: name 'df' is not defined"
     ]
    }
   ],
   "source": [
    "df.info()"
   ]
  },
  {
   "cell_type": "code",
   "execution_count": 5,
   "id": "e4e17e6d-7add-425f-b975-118152e6743c",
   "metadata": {},
   "outputs": [
    {
     "name": "stdout",
     "output_type": "stream",
     "text": [
      "Linear Regression MAE: 10.43\n",
      "Random Forest MAE: 8.28\n",
      "XGBoost MAE: 8.74\n",
      "Predicted possession for Team 12 vs Team 4 at Venue 0: 68.83%\n"
     ]
    }
   ],
   "source": [
    "import pandas as pd\n",
    "from sklearn.model_selection import train_test_split\n",
    "from sklearn.preprocessing import LabelEncoder\n",
    "from sklearn.ensemble import RandomForestRegressor\n",
    "from sklearn.linear_model import LinearRegression\n",
    "from xgboost import XGBRegressor\n",
    "from sklearn.metrics import mean_absolute_error\n",
    "\n",
    "# Load dataset\n",
    "df = pd.read_csv(r\"C:\\Users\\91798\\Desktop\\html\\jypter\\Football-main\\Football-main\\matches.csv\")\n",
    "\n",
    "# Select relevant columns\n",
    "df = df[['team', 'opponent', 'poss', 'venue']]\n",
    "\n",
    "# Convert categorical values to numeric using Label Encoding\n",
    "label_encoders = {}\n",
    "for col in ['team', 'opponent']:\n",
    "    le = LabelEncoder()\n",
    "    df[col] = le.fit_transform(df[col])\n",
    "    label_encoders[col] = le\n",
    "\n",
    "# Manually map venue to 0 (Home) and 1 (Away)\n",
    "venue_mapping = {'Home': 0, 'Away': 1}\n",
    "df['venue'] = df['venue'].map(venue_mapping)\n",
    "\n",
    "# Define features and target\n",
    "X = df[['team', 'opponent', 'venue']]\n",
    "y = df['poss']  # Predicting possession percentage\n",
    "\n",
    "# Split data into training and testing sets\n",
    "X_train, X_test, y_train, y_test = train_test_split(X, y, test_size=0.2, random_state=42)\n",
    "\n",
    "# Train different ML models\n",
    "models = {\n",
    "    'Linear Regression': LinearRegression(),\n",
    "    'Random Forest': RandomForestRegressor(n_estimators=100, random_state=42),\n",
    "    'XGBoost': XGBRegressor(objective='reg:squarederror')\n",
    "}\n",
    "\n",
    "# Evaluate models\n",
    "for name, model in models.items():\n",
    "    model.fit(X_train, y_train)\n",
    "    y_pred = model.predict(X_test)\n",
    "    error = mean_absolute_error(y_test, y_pred)\n",
    "    print(f\"{name} MAE: {error:.2f}\")\n",
    "\n",
    "# Function to predict possession for given input\n",
    "def predict_possession(team, opponent, venue):\n",
    "    input_data = pd.DataFrame([[team, opponent, venue]], columns=['team', 'opponent', 'venue'])\n",
    "    predicted_poss = models['Random Forest'].predict(input_data)[0]  # Using Random Forest for prediction\n",
    "    print(f\"Predicted possession for Team {team} vs Team {opponent} at Venue {venue}: {predicted_poss:.2f}%\")\n",
    "\n",
    "# Example usage\n",
    "predict_possession(12, 4, 0)  # Example: Team 12 vs Team 21 at Home"
   ]
  },
  {
   "cell_type": "code",
   "execution_count": 6,
   "id": "a44af966-df81-4c12-a151-3fc29101b265",
   "metadata": {},
   "outputs": [
    {
     "name": "stdout",
     "output_type": "stream",
     "text": [
      "<class 'pandas.core.frame.DataFrame'>\n",
      "RangeIndex: 1389 entries, 0 to 1388\n",
      "Data columns (total 4 columns):\n",
      " #   Column    Non-Null Count  Dtype  \n",
      "---  ------    --------------  -----  \n",
      " 0   team      1389 non-null   int32  \n",
      " 1   opponent  1389 non-null   int32  \n",
      " 2   poss      1389 non-null   float64\n",
      " 3   venue     1389 non-null   int64  \n",
      "dtypes: float64(1), int32(2), int64(1)\n",
      "memory usage: 32.7 KB\n"
     ]
    }
   ],
   "source": [
    "df.info()"
   ]
  },
  {
   "cell_type": "code",
   "execution_count": 7,
   "id": "9ef3ff40-0b69-4cb5-91a6-743e0ea80c60",
   "metadata": {},
   "outputs": [
    {
     "name": "stdout",
     "output_type": "stream",
     "text": [
      "0: Arsenal\n",
      "1: Aston Villa\n",
      "2: Brentford\n",
      "3: Brighton and Hove Albion\n",
      "4: Burnley\n",
      "5: Chelsea\n",
      "6: Crystal Palace\n",
      "7: Everton\n",
      "8: Fulham\n",
      "9: Leeds United\n",
      "10: Leicester City\n",
      "11: Liverpool\n",
      "12: Manchester City\n",
      "13: Manchester United\n",
      "14: Newcastle United\n",
      "15: Norwich City\n",
      "16: Sheffield United\n",
      "17: Southampton\n",
      "18: Tottenham Hotspur\n",
      "19: Watford\n",
      "20: West Bromwich Albion\n",
      "21: West Ham United\n",
      "22: Wolverhampton Wanderers\n"
     ]
    }
   ],
   "source": [
    "# Create a mapping of encoded team numbers to actual team names\n",
    "team_mapping = {index: name for index, name in enumerate(label_encoders['team'].classes_)}\n",
    "\n",
    "# Print all unique teams with their corresponding numbers\n",
    "for num, team in team_mapping.items():\n",
    "    print(f\"{num}: {team}\")\n"
   ]
  },
  {
   "cell_type": "code",
   "execution_count": 3,
   "id": "90472da4-4947-49e1-a319-f21ce953acc7",
   "metadata": {},
   "outputs": [
    {
     "name": "stdout",
     "output_type": "stream",
     "text": [
      "Collecting lightgbm\n",
      "  Obtaining dependency information for lightgbm from https://files.pythonhosted.org/packages/5e/23/f8b28ca248bb629b9e08f877dd2965d1994e1674a03d67cd10c5246da248/lightgbm-4.6.0-py3-none-win_amd64.whl.metadata\n",
      "  Downloading lightgbm-4.6.0-py3-none-win_amd64.whl.metadata (17 kB)\n",
      "Requirement already satisfied: numpy>=1.17.0 in c:\\users\\91798\\appdata\\local\\programs\\python\\python311\\lib\\site-packages (from lightgbm) (1.26.4)\n",
      "Requirement already satisfied: scipy in c:\\users\\91798\\appdata\\local\\programs\\python\\python311\\lib\\site-packages (from lightgbm) (1.14.1)\n",
      "Downloading lightgbm-4.6.0-py3-none-win_amd64.whl (1.5 MB)\n",
      "   ---------------------------------------- 0.0/1.5 MB ? eta -:--:--\n",
      "    --------------------------------------- 0.0/1.5 MB ? eta -:--:--\n",
      "   - -------------------------------------- 0.0/1.5 MB 653.6 kB/s eta 0:00:03\n",
      "   ---- ----------------------------------- 0.2/1.5 MB 1.5 MB/s eta 0:00:01\n",
      "   --------- ------------------------------ 0.3/1.5 MB 2.0 MB/s eta 0:00:01\n",
      "   ------------- -------------------------- 0.5/1.5 MB 2.3 MB/s eta 0:00:01\n",
      "   --------------------- ------------------ 0.8/1.5 MB 3.2 MB/s eta 0:00:01\n",
      "   --------------------------- ------------ 1.0/1.5 MB 3.5 MB/s eta 0:00:01\n",
      "   ---------------------------------- ----- 1.2/1.5 MB 3.8 MB/s eta 0:00:01\n",
      "   ---------------------------------------- 1.5/1.5 MB 3.7 MB/s eta 0:00:00\n",
      "Installing collected packages: lightgbm\n",
      "Successfully installed lightgbm-4.6.0\n",
      "Note: you may need to restart the kernel to use updated packages.\n"
     ]
    },
    {
     "name": "stderr",
     "output_type": "stream",
     "text": [
      "\n",
      "[notice] A new release of pip is available: 23.2.1 -> 25.0.1\n",
      "[notice] To update, run: python.exe -m pip install --upgrade pip\n"
     ]
    }
   ],
   "source": [
    "pip install lightgbm\n"
   ]
  },
  {
   "cell_type": "code",
   "execution_count": 8,
   "id": "61ac63b4-de74-4f3b-89e3-82e5839bf46a",
   "metadata": {},
   "outputs": [
    {
     "name": "stdout",
     "output_type": "stream",
     "text": [
      "[LightGBM] [Info] Auto-choosing col-wise multi-threading, the overhead of testing was 0.000131 seconds.\n",
      "You can set `force_col_wise=true` to remove the overhead.\n",
      "[LightGBM] [Info] Total Bins 48\n",
      "[LightGBM] [Info] Number of data points in the train set: 1111, number of used features: 3\n",
      "[LightGBM] [Info] Start training from score 49.958596\n",
      "[LightGBM] [Warning] No further splits with positive gain, best gain: -inf\n",
      "[LightGBM] [Warning] No further splits with positive gain, best gain: -inf\n",
      "[LightGBM] [Warning] No further splits with positive gain, best gain: -inf\n",
      "[LightGBM] [Warning] No further splits with positive gain, best gain: -inf\n",
      "[LightGBM] [Warning] No further splits with positive gain, best gain: -inf\n",
      "[LightGBM] [Warning] No further splits with positive gain, best gain: -inf\n",
      "[LightGBM] [Warning] No further splits with positive gain, best gain: -inf\n",
      "[LightGBM] [Warning] No further splits with positive gain, best gain: -inf\n",
      "[LightGBM] [Warning] No further splits with positive gain, best gain: -inf\n",
      "[LightGBM] [Warning] No further splits with positive gain, best gain: -inf\n",
      "[LightGBM] [Warning] No further splits with positive gain, best gain: -inf\n",
      "[LightGBM] [Warning] No further splits with positive gain, best gain: -inf\n",
      "[LightGBM] [Warning] No further splits with positive gain, best gain: -inf\n",
      "[LightGBM] [Warning] No further splits with positive gain, best gain: -inf\n",
      "[LightGBM] [Warning] No further splits with positive gain, best gain: -inf\n",
      "[LightGBM] [Warning] No further splits with positive gain, best gain: -inf\n",
      "[LightGBM] [Warning] No further splits with positive gain, best gain: -inf\n",
      "[LightGBM] [Warning] No further splits with positive gain, best gain: -inf\n",
      "[LightGBM] [Warning] No further splits with positive gain, best gain: -inf\n",
      "[LightGBM] [Warning] No further splits with positive gain, best gain: -inf\n",
      "[LightGBM] [Warning] No further splits with positive gain, best gain: -inf\n",
      "[LightGBM] [Warning] No further splits with positive gain, best gain: -inf\n",
      "[LightGBM] [Warning] No further splits with positive gain, best gain: -inf\n",
      "[LightGBM] [Warning] No further splits with positive gain, best gain: -inf\n",
      "[LightGBM] [Warning] No further splits with positive gain, best gain: -inf\n",
      "[LightGBM] [Warning] No further splits with positive gain, best gain: -inf\n",
      "[LightGBM] [Warning] No further splits with positive gain, best gain: -inf\n",
      "[LightGBM] [Warning] No further splits with positive gain, best gain: -inf\n",
      "[LightGBM] [Warning] No further splits with positive gain, best gain: -inf\n",
      "[LightGBM] [Warning] No further splits with positive gain, best gain: -inf\n",
      "[LightGBM] [Warning] No further splits with positive gain, best gain: -inf\n",
      "[LightGBM] [Warning] No further splits with positive gain, best gain: -inf\n",
      "[LightGBM] [Warning] No further splits with positive gain, best gain: -inf\n",
      "[LightGBM] [Warning] No further splits with positive gain, best gain: -inf\n",
      "[LightGBM] [Warning] No further splits with positive gain, best gain: -inf\n",
      "[LightGBM] [Warning] No further splits with positive gain, best gain: -inf\n",
      "[LightGBM] [Warning] No further splits with positive gain, best gain: -inf\n",
      "[LightGBM] [Warning] No further splits with positive gain, best gain: -inf\n",
      "[LightGBM] [Warning] No further splits with positive gain, best gain: -inf\n",
      "[LightGBM] [Warning] No further splits with positive gain, best gain: -inf\n",
      "[LightGBM] [Warning] No further splits with positive gain, best gain: -inf\n",
      "[LightGBM] [Warning] No further splits with positive gain, best gain: -inf\n",
      "[LightGBM] [Warning] No further splits with positive gain, best gain: -inf\n",
      "[LightGBM] [Warning] No further splits with positive gain, best gain: -inf\n",
      "[LightGBM] [Warning] No further splits with positive gain, best gain: -inf\n",
      "[LightGBM] [Warning] No further splits with positive gain, best gain: -inf\n",
      "[LightGBM] [Warning] No further splits with positive gain, best gain: -inf\n",
      "[LightGBM] [Warning] No further splits with positive gain, best gain: -inf\n",
      "[LightGBM] [Warning] No further splits with positive gain, best gain: -inf\n",
      "[LightGBM] [Warning] No further splits with positive gain, best gain: -inf\n",
      "[LightGBM] [Warning] No further splits with positive gain, best gain: -inf\n",
      "LightGBM MAE: 7.416023372103963\n"
     ]
    }
   ],
   "source": [
    "from lightgbm import LGBMRegressor\n",
    "\n",
    "lgbm = LGBMRegressor(n_estimators=200, learning_rate=0.05, max_depth=10)\n",
    "lgbm.fit(X_train, y_train)\n",
    "y_pred = lgbm.predict(X_test)\n",
    "\n",
    "print(\"LightGBM MAE:\", mean_absolute_error(y_test, y_pred))\n"
   ]
  },
  {
   "cell_type": "code",
   "execution_count": 20,
   "id": "2dbed2e0-f48f-4523-8ecf-3c7247730071",
   "metadata": {},
   "outputs": [
    {
     "name": "stdout",
     "output_type": "stream",
     "text": [
      "Predicted possession for Team 11 vs Team 0 at Venue 0: 64.10%\n"
     ]
    }
   ],
   "source": [
    "def predict_possession(team, opponent, venue):\n",
    "    input_data = pd.DataFrame([[team, opponent, venue]], columns=['team', 'opponent', 'venue'])\n",
    "    predicted_poss = lgbm.predict(input_data)[0]  # Using LightGBM for prediction\n",
    "    print(f\"Predicted possession for Team {team} vs Team {opponent} at Venue {venue}: {predicted_poss:.2f}%\")\n",
    "    \n",
    "# Example usage\n",
    "predict_possession(11, 0, 0)  # Exampl"
   ]
  },
  {
   "cell_type": "code",
   "execution_count": 10,
   "id": "d0bf0fe7-6e25-41c0-ae53-11c00c1bb9e0",
   "metadata": {},
   "outputs": [],
   "source": [
    "# Apply label encoding again (if not done already)\n",
    "from sklearn.preprocessing import LabelEncoder\n",
    "\n",
    "label_encoders = {}\n",
    "for col in ['team', 'opponent']:\n",
    "    le = LabelEncoder()\n",
    "    df[col] = le.fit_transform(df[col])\n",
    "    label_encoders[col] = le\n"
   ]
  },
  {
   "cell_type": "code",
   "execution_count": 19,
   "id": "9fc62e10-5657-4273-84fc-234f91540e57",
   "metadata": {},
   "outputs": [
    {
     "name": "stdout",
     "output_type": "stream",
     "text": [
      "     team  opponent  venue  poss\n",
      "707    11         0      0  67.0\n",
      "734    11         0      1  64.0\n"
     ]
    }
   ],
   "source": [
    "team_name = 11\n",
    "opponent_name = 0\n",
    "\n",
    "# Convert team names to encoded values\n",
    "team_encoded = label_encoders['team'].transform([team_name])[0]\n",
    "opponent_encoded = label_encoders['team'].transform([opponent_name])[0]\n",
    "\n",
    "# Find past head-to-head matches\n",
    "h2h_matches = df[(df['team'] == team_encoded) & (df['opponent'] == opponent_encoded)]\n",
    "print(h2h_matches[['team', 'opponent', 'venue', 'poss']])\n"
   ]
  },
  {
   "cell_type": "code",
   "execution_count": null,
   "id": "f2f7261b-1d34-4893-8e39-29678525ab45",
   "metadata": {},
   "outputs": [],
   "source": []
  }
 ],
 "metadata": {
  "kernelspec": {
   "display_name": "Python 3 (ipykernel)",
   "language": "python",
   "name": "python3"
  },
  "language_info": {
   "codemirror_mode": {
    "name": "ipython",
    "version": 3
   },
   "file_extension": ".py",
   "mimetype": "text/x-python",
   "name": "python",
   "nbconvert_exporter": "python",
   "pygments_lexer": "ipython3",
   "version": "3.11.6"
  }
 },
 "nbformat": 4,
 "nbformat_minor": 5
}
